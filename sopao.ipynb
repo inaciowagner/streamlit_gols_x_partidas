{
 "cells": [
  {
   "cell_type": "code",
   "execution_count": 1,
   "metadata": {},
   "outputs": [],
   "source": [
    "from bs4 import BeautifulSoup\n",
    "from selenium import webdriver\n",
    "from selenium.webdriver.common.keys import Keys\n",
    "from selenium.webdriver.common.by import By\n",
    "from time import sleep\n",
    "import requests\n",
    "from datetime import datetime, timedelta\n",
    "#from selenium.webdriver.firefox.options import Options\n",
    "from selenium.webdriver.chrome.options import Options\n",
    "import pandas as pd\n",
    "\n"
   ]
  },
  {
   "cell_type": "code",
   "execution_count": 2,
   "metadata": {},
   "outputs": [],
   "source": [
    "# moldando data e hora para usar posteriormente\n",
    "data_hora_atual = datetime.now()\n",
    "# Formatar data no padrão português brasileiro\n",
    "data_formatada = data_hora_atual.strftime(\"%d-%m-%Y\")\n",
    "data_arquivo = data_hora_atual.strftime(\"%Y_%m_%d\")\n",
    "# Formatar hora no formato hh:mm\n",
    "hora_formatada = data_hora_atual.strftime(\"%H_%M_%S\")\n",
    "ano = data_hora_atual.strftime(\"%Y\")\n",
    "ontem = data_hora_atual - timedelta(days=1)\n",
    "ontem = ontem.strftime(\"%d-%m-%Y\") # data de ontem formatada para substituir a palavra \"ontem\" pela data de ontem\n",
    "# Imprimir data e hora formatadas\n",
    "#print(f\"Data: {data_formatada}\")\n",
    "#print(f\"Hora: {hora_formatada}\")\n",
    "#print(f\"Ontem foi {ontem}\") "
   ]
  },
  {
   "cell_type": "code",
   "execution_count": 3,
   "metadata": {},
   "outputs": [],
   "source": [
    "# cabeçalho da requisição para burlar a proteção contra scrap do site do google\n",
    "headers = {\"User-Agent\": \"Mozilla/5.0 (Windows NT 10.0; Win64; x64) AppleWebKit/537.36 (KHTML, like Gecko) Chrome/111.0.0.0 Safari/537.36\"}\n",
    "\n",
    "# abre o Chrome\n",
    "#navegador = webdriver.Chrome()\n",
    "# Configurando o modo headless\n",
    "options = Options()\n",
    "options.add_argument(\"--headless\")\n",
    "\n",
    "# Criando o WebDriver\n",
    "navegador = webdriver.Chrome(options=options)\n"
   ]
  },
  {
   "cell_type": "code",
   "execution_count": 180,
   "metadata": {},
   "outputs": [],
   "source": [
    "######################################### AQUI ACONTECE A INSERÇÃO DO LINK #########################################\n",
    "\n",
    "link = input(\"entre com o link da partida\")\n",
    "#link = 'https://www.google.com.br/search?q=rodada+1+premier+league+&sca_esv=72aaa3890415b76e&sca_upv=1&sxsrf=ADLYWIJ6x2PJn90SWsYPqibiPYzcVX4HKg%3A1726583621922&ei=RZPpZqeEON7a5OUPso_okA4&ved=0ahUKEwjnutabmcqIAxVeLbkGHbIHGuIQ4dUDCA8&uact=5&oq=rodada+1+premier+league+&gs_lp=Egxnd3Mtd2l6LXNlcnAiGHJvZGFkYSAxIHByZW1pZXIgbGVhZ3VlIDIFEAAYgAQyBBAAGB4yCBAAGIAEGKIEMggQABiABBiiBDIIEAAYgAQYogRItXZQlQ5Y_3BwA3gBkAEBmAHtAaABohiqAQYwLjE3LjK4AQPIAQD4AQGYAhWgApUXwgIKEAAYsAMY1gQYR8ICChAjGIAEGCcYigXCAgQQIxgnwgIMEAAYgAQYQxiKBRgKwgIKEAAYgAQYQxiKBcICCxAuGIAEGLEDGIMBwgIIEC4YgAQYsQPCAgoQLhiABBhDGIoFwgIQEAAYgAQYsQMYQxiDARiKBcICCxAAGIAEGLEDGIMBwgILEC4YgAQYxwEYrwHCAg0QLhiABBhDGNQCGIoFwgIOEAAYgAQYsQMYgwEYigXCAg4QLhiABBixAxiDARiKBcICCBAAGIAEGLEDwgINEAAYgAQYsQMYQxiKBcICBxAAGIAEGArCAggQABiABBjLAcICBhAAGBYYHsICBxAAGIAEGA3CAgYQABgHGB7CAggQABgHGAgYHpgDAIgGAZAGCJIHBjMuMTcuMaAHnKAB&sclient=gws-wiz-serp#sie=m;/g/11y5mfh0jt;2;/m/02_tc;dt;fp;1;;;'\n",
    "\n",
    "# acessa o site da partida\n",
    "navegador.get(link)"
   ]
  },
  {
   "cell_type": "code",
   "execution_count": 181,
   "metadata": {},
   "outputs": [],
   "source": [
    "# aguarda até a página carregar - aguarda 1 segudno enquanto a quantidade de elementos procurados for zero\n",
    "while len(navegador.find_elements(By.XPATH, '//*[@id=\"liveresults-sports-immersive__match-fullpage\"]/div/div[2]/div[4]')) < 1:\n",
    "        sleep(1)\n",
    "# após encontrar o elemento ele é atribuido a variável tabela\n",
    "tabela = navegador.find_element(By.XPATH, '//*[@id=\"liveresults-sports-immersive__match-fullpage\"]/div/div[2]/div[4]').get_attribute(\"outerHTML\")"
   ]
  },
  {
   "cell_type": "code",
   "execution_count": 182,
   "metadata": {},
   "outputs": [],
   "source": [
    "# the site is on de table\n",
    "##print(tabela)"
   ]
  },
  {
   "cell_type": "code",
   "execution_count": 183,
   "metadata": {},
   "outputs": [],
   "source": [
    "# a tabela encontrada é \"passada a limpo\" com essa linha\n",
    "tabela = BeautifulSoup(tabela, \"html.parser\")\n"
   ]
  },
  {
   "cell_type": "code",
   "execution_count": 184,
   "metadata": {},
   "outputs": [],
   "source": [
    "while len(navegador.find_elements(By.XPATH, '//*[@id=\"match-stats\"]/div/div[1]')) < 1:\n",
    "    sleep(1)\n",
    "numeros = navegador.find_element(By.XPATH, '//*[@id=\"match-stats\"]/div/div[1]').get_attribute(\"outerHTML\")\n"
   ]
  },
  {
   "cell_type": "code",
   "execution_count": 185,
   "metadata": {},
   "outputs": [],
   "source": [
    "#print(numeros)"
   ]
  },
  {
   "cell_type": "code",
   "execution_count": 186,
   "metadata": {},
   "outputs": [],
   "source": [
    "numeros =BeautifulSoup(numeros, \"html.parser\")"
   ]
  },
  {
   "cell_type": "markdown",
   "metadata": {},
   "source": [
    "## Filtrando o texto dos elementos"
   ]
  },
  {
   "cell_type": "code",
   "execution_count": 187,
   "metadata": {},
   "outputs": [],
   "source": [
    "# data\n",
    "data = tabela.find(\"div\", class_=\"imso-hide-overflow\")\n",
    "data = data.get_text()\n",
    "#print(data)"
   ]
  },
  {
   "cell_type": "markdown",
   "metadata": {},
   "source": [
    "## Tratando o texto da variável \"data\"\n",
    "> quando pegamos os dados no mesmo dia do jogo a data vem como \"Hoje\""
   ]
  },
  {
   "cell_type": "code",
   "execution_count": 188,
   "metadata": {},
   "outputs": [],
   "source": [
    "# substituindo as palavras \"ontem\" e \"hoje\" pelas por datas\n",
    "if \"Hoje\" in data:\n",
    "    data = data_formatada\n",
    "elif \"Ontem\" in data:\n",
    "    data = ontem\n",
    "else:\n",
    "    data = f\"{data[-10:]}/{ano}\"\n",
    "    data = data.replace('/', '-')\n",
    "    data = data[-10:]\n",
    "#print(data)"
   ]
  },
  {
   "cell_type": "code",
   "execution_count": 189,
   "metadata": {},
   "outputs": [],
   "source": [
    "# nome do mandante do jogo\n",
    "#mandante = tabela.find(\"div\", class_=\"imso-hide-overflow\")\n",
    "mandante = tabela.find(\"div\", class_=\"liveresults-sports-immersive__hide-element\")\n",
    "mandante = mandante.get_text()\n",
    "#print(mandante)"
   ]
  },
  {
   "cell_type": "code",
   "execution_count": 190,
   "metadata": {},
   "outputs": [],
   "source": [
    "visitante = tabela.find_all(\"div\", class_=\"liveresults-sports-immersive__hide-element\")\n",
    "\n",
    "visitante = visitante[1].get_text()\n",
    "#print(visitante)"
   ]
  },
  {
   "cell_type": "code",
   "execution_count": 191,
   "metadata": {},
   "outputs": [],
   "source": [
    "gols_mandante = tabela.find(\"div\", class_=\"imso_mh__l-tm-sc imso_mh__scr-it imso-light-font\")\n",
    "gols_mandante = int(gols_mandante.get_text())\n",
    "#print(gols_mandante)"
   ]
  },
  {
   "cell_type": "code",
   "execution_count": 192,
   "metadata": {},
   "outputs": [],
   "source": [
    "gols_visitante = tabela.find(\"div\", class_=\"imso_mh__r-tm-sc imso_mh__scr-it imso-light-font\")\n",
    "gols_visitante = int(gols_visitante.get_text())\n",
    "#print(gols_visitante)\n"
   ]
  },
  {
   "cell_type": "code",
   "execution_count": 193,
   "metadata": {},
   "outputs": [],
   "source": [
    "escudos = tabela.find_all(\"img\", class_=\"imso_btl__mh-logo\")\n",
    "escudo_mandante = str(escudos[0])\n",
    "escudo_visitante = str(escudos[1])\n",
    "#print(f\"{escudo_mandante}\\n{escudo_visitante}\")\n"
   ]
  },
  {
   "cell_type": "code",
   "execution_count": 194,
   "metadata": {},
   "outputs": [],
   "source": [
    "fundamentos = tabela.find_all(\"tr\", class_=\"MzWkAb\")\n",
    "\n",
    "#chutes = chutes[1].get_text()\n",
    "##print(chutes)\n",
    "\n",
    "chutes = fundamentos[0].get_text()\n",
    "chutes = chutes.split(\"Chutes\")\n",
    "chutes_mandante = int(chutes[0])\n",
    "chutes_visitante = int(chutes[1])\n",
    "#print(f\"{mandante} {chutes_mandante} Chutes {chutes_visitante} {visitante}\")\n",
    "\n",
    "chutes_a_gol = fundamentos[1].get_text()\n",
    "chutes_a_gol = chutes_a_gol.split(\"Chutes a gol\")\n",
    "chutes_a_gol_mandante = int(chutes_a_gol[0])\n",
    "chutes_a_gol_visitante = int(chutes_a_gol[1])\n",
    "#print(f\"{mandante} {chutes_a_gol_mandante} Chutes a Gol {chutes_a_gol_visitante} {visitante}\") \n",
    "\n",
    "posse_de_bola = fundamentos[2].get_text()\n",
    "posse_de_bola = posse_de_bola.split(\"Posse de bola\")\n",
    "posse_b_mandante = posse_de_bola[0].replace(\"%\", \"\")\n",
    "posse_b_visitante = posse_de_bola[1].replace(\"%\", \"\")\n",
    "posse_b_mandante = float(posse_b_mandante)\n",
    "posse_b_mandante = posse_b_mandante / 100\n",
    "posse_b_visitante = float(posse_b_visitante)\n",
    "posse_b_visitante = posse_b_visitante / 100\n",
    "#print(f\"{mandante} {posse_b_mandante} Posse de Bola {posse_b_visitante} {visitante}\")\n",
    "\n",
    "# quantidadae de passes\n",
    "passes = fundamentos[3].get_text()\n",
    "passes = passes.split(\"Passes\")\n",
    "passes_mandante = int(passes[0])\n",
    "passes_visitante = int(passes[1])\n",
    "#print(f\"{mandante} {passes_mandante} Passes {passes_visitante} {visitante}\")\n",
    "\n",
    "# precisão dos passes\n",
    "precisao_dos_passes = fundamentos[4].get_text()\n",
    "precisao_dos_passes = precisao_dos_passes.split(\"Precisão de passe\")\n",
    "precisao_p_mandante = precisao_dos_passes[0].replace(\"%\", \"\")\n",
    "precisao_p_visitante = precisao_dos_passes[1].replace(\"%\",\"\")\n",
    "precisao_p_mandante = float(precisao_p_mandante)\n",
    "precisao_p_mandante = precisao_p_mandante / 100\n",
    "precisao_p_visitante = float(precisao_p_visitante)\n",
    "precisao_p_visitante = precisao_p_visitante / 100\n",
    "#print(f\"{mandante} {precisao_p_mandante} Precisão Passes {precisao_p_visitante} {visitante}\")\n",
    "\n",
    "# faltas\n",
    "faltas = fundamentos[5].get_text()\n",
    "faltas = faltas.split(\"Faltas\")\n",
    "faltas_mandante = int(faltas[0])\n",
    "faltas_visitante = int(faltas[1])\n",
    "#print(f\"{mandante} {faltas_mandante} Faltas {faltas_visitante} {visitante}\")\n",
    "\n",
    "# cartões amarelos\n",
    "cartoes_amarelos = fundamentos[6].get_text()\n",
    "cartoes_amarelos = cartoes_amarelos.split(\"Cartões amarelos\")\n",
    "cartoes_a_mandante = int(cartoes_amarelos[0])\n",
    "cartoes_a_visitante = int(cartoes_amarelos[1])\n",
    "#print(f\"{mandante} {cartoes_a_mandante} Cartões Amarelos {cartoes_a_visitante} {visitante}\")\n",
    "\n",
    "# cartõese vermelhos\n",
    "cartoes_vermelhos = fundamentos[7].get_text()\n",
    "cartoes_vermelhos = cartoes_vermelhos.split(\"Cartões vermelhos\")\n",
    "cartoes_v_mandante = int(cartoes_vermelhos[0])\n",
    "cartoes_v_visitante = int(cartoes_vermelhos[1])\n",
    "#print(f\"{mandante} {cartoes_v_mandante} Cartões Vermelhos {cartoes_v_visitante} {visitante}\")\n",
    "\n",
    "# impedimentos\n",
    "impedimentos = fundamentos[8].get_text()\n",
    "impedimentos = impedimentos.split(\"Impedimentos\")\n",
    "impedimentos_mandante = int(impedimentos[0])\n",
    "impedimentos_visitante = int(impedimentos[1])\n",
    "#print(f\"{mandante} {impedimentos_mandante} Impedimentos {impedimentos_visitante} {visitante}\")\n",
    "\n",
    "# escanteios\n",
    "escanteios = fundamentos[9].get_text()\n",
    "escanteios = escanteios.split(\"Escanteios\")\n",
    "escanteios_mandante = int(escanteios[0])\n",
    "escanteios_visitante = int(escanteios[1])\n",
    "#print(f\"tivemos {escanteios_mandante + escanteios_visitante} no jogo, sendo {escanteios_mandante} do {mandante} e {escanteios_visitante} do {visitante}\")\n"
   ]
  },
  {
   "cell_type": "code",
   "execution_count": 195,
   "metadata": {},
   "outputs": [],
   "source": [
    "\n",
    "if gols_mandante > gols_visitante:\n",
    "    vencedor = mandante\n",
    "    derrotado = visitante\n",
    "elif gols_mandante < gols_visitante:\n",
    "    vencedor = visitante\n",
    "    derrotado = mandante\n",
    "else:\n",
    "    vencedor = '-'\n",
    "    derrotado = '-'\n",
    "#print(f\"O {vencedor} venceu o {derrotado}\")\n",
    "#print(f\"PLACAR: {mandante} {gols_mandante} x {gols_visitante} {visitante}\")\n",
    "\n"
   ]
  },
  {
   "cell_type": "code",
   "execution_count": 196,
   "metadata": {},
   "outputs": [],
   "source": [
    "# toca um sinal de que o código foi terminado e fecha o navegador\n",
    "navegador.get(f\"https://translate.google.com/?hl=en&tab=TT&sl=auto&tl=en&text={mandante}%20{gols_mandante}%20x%20{gols_visitante}%20{visitante}.%0Anavegador%20permanece%20aberto&op=translate\")\n",
    "while len(navegador.find_elements(By.XPATH, '//*[@id=\"yDmH0d\"]/c-wiz/div/div[2]/c-wiz/div[2]/c-wiz/div/div[2]/div[2]/div/c-wiz/div[5]/div/div[2]/div/div[2]/span/button/div[3]')) < 1:\n",
    "    sleep(1) # aguarda a página carregar\n",
    "navegador.find_element(By.XPATH, '//*[@id=\"yDmH0d\"]/c-wiz/div/div[2]/c-wiz/div[2]/c-wiz/div/div[2]/div[2]/div/c-wiz/div[5]/div/div[2]/div/div[2]/span/button/div[3]').click() # clica no botão de aceitar os cookies\n",
    "sleep(5) # aguarda o áudio tocar completamente\n"
   ]
  },
  {
   "cell_type": "code",
   "execution_count": 197,
   "metadata": {},
   "outputs": [],
   "source": [
    "#navegador.quit() # fecha a bodega"
   ]
  },
  {
   "cell_type": "code",
   "execution_count": 198,
   "metadata": {},
   "outputs": [
    {
     "data": {
      "text/html": [
       "<div>\n",
       "<style scoped>\n",
       "    .dataframe tbody tr th:only-of-type {\n",
       "        vertical-align: middle;\n",
       "    }\n",
       "\n",
       "    .dataframe tbody tr th {\n",
       "        vertical-align: top;\n",
       "    }\n",
       "\n",
       "    .dataframe thead th {\n",
       "        text-align: right;\n",
       "    }\n",
       "</style>\n",
       "<table border=\"1\" class=\"dataframe\">\n",
       "  <thead>\n",
       "    <tr style=\"text-align: right;\">\n",
       "      <th></th>\n",
       "      <th>15-09-2024</th>\n",
       "      <th>&lt;img alt=\"\" class=\"imso_btl__mh-logo\" height=\"48px\" id=\"spotl_JefqZuLaIKbK1sQP2KfgqQ8_1\" src=\"//ssl.gstatic.com/onebox/media/sports/logos/orE554NToSkH6nuwofe7Yg_96x96.png\" width=\"48px\"/&gt;</th>\n",
       "      <th>&lt;img alt=\"\" class=\"imso_btl__mh-logo\" height=\"48px\" id=\"spotl_JefqZuLaIKbK1sQP2KfgqQ8_3\" src=\"//ssl.gstatic.com/onebox/media/sports/logos/hHwT8LwRmYCAGxQ-STLxYA_96x96.png\" width=\"48px\"/&gt;</th>\n",
       "      <th>Flamengo</th>\n",
       "      <th>Vasco da Gama</th>\n",
       "      <th>1</th>\n",
       "      <th>1</th>\n",
       "      <th>-</th>\n",
       "      <th>-</th>\n",
       "      <th>17</th>\n",
       "      <th>...</th>\n",
       "      <th>10</th>\n",
       "      <th>10</th>\n",
       "      <th>0</th>\n",
       "      <th>1</th>\n",
       "      <th>0</th>\n",
       "      <th>0</th>\n",
       "      <th>3</th>\n",
       "      <th>1</th>\n",
       "      <th>5</th>\n",
       "      <th>6</th>\n",
       "    </tr>\n",
       "  </thead>\n",
       "  <tbody>\n",
       "    <tr>\n",
       "      <th>0</th>\n",
       "      <td>NaN</td>\n",
       "      <td>NaN</td>\n",
       "      <td>NaN</td>\n",
       "      <td>NaN</td>\n",
       "      <td>NaN</td>\n",
       "      <td>NaN</td>\n",
       "      <td>NaN</td>\n",
       "      <td>NaN</td>\n",
       "      <td>NaN</td>\n",
       "      <td>NaN</td>\n",
       "      <td>...</td>\n",
       "      <td>NaN</td>\n",
       "      <td>NaN</td>\n",
       "      <td>NaN</td>\n",
       "      <td>NaN</td>\n",
       "      <td>NaN</td>\n",
       "      <td>NaN</td>\n",
       "      <td>NaN</td>\n",
       "      <td>NaN</td>\n",
       "      <td>NaN</td>\n",
       "      <td>NaN</td>\n",
       "    </tr>\n",
       "  </tbody>\n",
       "</table>\n",
       "<p>1 rows × 29 columns</p>\n",
       "</div>"
      ],
      "text/plain": [
       "  15-09-2024  \\\n",
       "0        NaN   \n",
       "\n",
       "  <img alt=\"\" class=\"imso_btl__mh-logo\" height=\"48px\" id=\"spotl_JefqZuLaIKbK1sQP2KfgqQ8_1\" src=\"//ssl.gstatic.com/onebox/media/sports/logos/orE554NToSkH6nuwofe7Yg_96x96.png\" width=\"48px\"/>  \\\n",
       "0                                                NaN                                                                                                                                           \n",
       "\n",
       "  <img alt=\"\" class=\"imso_btl__mh-logo\" height=\"48px\" id=\"spotl_JefqZuLaIKbK1sQP2KfgqQ8_3\" src=\"//ssl.gstatic.com/onebox/media/sports/logos/hHwT8LwRmYCAGxQ-STLxYA_96x96.png\" width=\"48px\"/>  \\\n",
       "0                                                NaN                                                                                                                                           \n",
       "\n",
       "  Flamengo Vasco da Gama    1    1    -    -   17  ...   10   10    0    1  \\\n",
       "0      NaN           NaN  NaN  NaN  NaN  NaN  NaN  ...  NaN  NaN  NaN  NaN   \n",
       "\n",
       "     0    0    3    1    5    6  \n",
       "0  NaN  NaN  NaN  NaN  NaN  NaN  \n",
       "\n",
       "[1 rows x 29 columns]"
      ]
     },
     "execution_count": 198,
     "metadata": {},
     "output_type": "execute_result"
    }
   ],
   "source": [
    "dados_jogo = {\n",
    "    \"data\": data,\n",
    "    \"img mand\": escudo_mandante,\n",
    "    \"img visit\": escudo_visitante,\n",
    "    \"mandante\": mandante,\n",
    "    \"visitante\": visitante,\n",
    "    \"gols mand.\": gols_mandante,\n",
    "    \"gols_visit.\": gols_visitante,\n",
    "    \"chutes mandante\": chutes_mandante,\n",
    "    \"chutes visitante\": chutes_visitante,\n",
    "    \"chutes a gols mand.\": chutes_a_gol_mandante,\n",
    "    \"chutes a gols visit.\": chutes_a_gol_visitante,\n",
    "    \"posse de b mand.\": posse_b_mandante,\n",
    "    \"posse b visit..\": posse_b_visitante,\n",
    "    \"passes mand.\": passes_mandante,\n",
    "    \"passes visit.\": passes_visitante,\n",
    "    \"precisao p mand.\": precisao_p_mandante,\n",
    "    \"precisao p visit.\": precisao_p_visitante,\n",
    "    \"faltas mand.\": faltas_mandante,\n",
    "    \"faltas visit.\": faltas_visitante,\n",
    "    \"cart. amar. mand.\": cartoes_a_mandante,\n",
    "    \"cart. amar. visit.\": cartoes_a_visitante,\n",
    "    \"cart verm. mand.\": cartoes_v_mandante,\n",
    "    \"cart vaerm. visit.\": cartoes_v_visitante,\n",
    "    \"impedimento mand.\": impedimentos_mandante,\n",
    "    \"impedimento visit.\": impedimentos_visitante,\n",
    "    \"escanteios mand.\": escanteios_mandante,\n",
    "    \"escanteios visit.\": escanteios_visitante\n",
    "\n",
    "\n",
    "}\n",
    "\n",
    "colunas = [data, escudo_mandante, escudo_visitante, mandante, visitante, gols_mandante, gols_visitante, vencedor, derrotado, chutes_mandante, chutes_visitante, chutes_a_gol_mandante, chutes_a_gol_visitante, posse_b_mandante, posse_b_visitante, passes_mandante, passes_visitante, precisao_p_mandante, precisao_p_visitante, faltas_mandante, faltas_visitante, cartoes_a_mandante, cartoes_a_visitante, cartoes_v_mandante, cartoes_v_visitante, impedimentos_mandante, impedimentos_visitante, escanteios_mandante, escanteios_visitante]\n",
    "df = pd.DataFrame(columns=colunas, index=[\"0\"])\n",
    "df"
   ]
  },
  {
   "cell_type": "code",
   "execution_count": 199,
   "metadata": {},
   "outputs": [],
   "source": [
    "# a tabela com os dados do jogo é expressa por esses dados\n",
    "#print(numeros)"
   ]
  },
  {
   "cell_type": "markdown",
   "metadata": {},
   "source": [
    "<div class=\"lr-imso-ss-bb lr-imso-ss-wdm\"><table class=\"lr-imso-ss-wdt\"><tbody><tr class=\"zvQp2c\"><th aria-label=\"Wolves\" class=\"jqZdce\" role=\"columnheader\" scope=\"col\"><div aria-hidden=\"true\"><div class=\"UNCnvc\"><img alt=\"Wolves\" class=\"imso_btl__mh-logo\" data-ilt=\"1726576456449\" height=\"24px\" id=\"spotl_RHfpZtOCFtXR1sQPwuPT2Qg_9\" src=\"//ssl.gstatic.com/onebox/media/sports/logos/-WjHLbBIQO9xE2e2MW3OPQ_48x48.png\" width=\"24px\"/></div></div></th><th class=\"gZIgRd imso-medium-font\" role=\"columnheader\" scope=\"col\">ESTATÍSTICAS DOS TIMES</th><th aria-label=\"Newcastle\" class=\"jqZdce\" role=\"columnheader\" scope=\"col\"><div aria-hidden=\"true\"><div class=\"UNCnvc\"><img alt=\"Newcastle\" class=\"imso_btl__mh-logo\" data-ilt=\"1726576456449\" height=\"24px\" id=\"spotl_RHfpZtOCFtXR1sQPwuPT2Qg_11\" src=\"//ssl.gstatic.com/onebox/media/sports/logos/96CcNNQ0AYDAbssP0V9LuQ_48x48.png\" width=\"24px\"/></div></div></th></tr><tr class=\"MzWkAb\"><td>12</td><th class=\"JmSkkf\" role=\"rowheader\" scope=\"row\">Chutes</th><td>14</td></tr><tr class=\"MzWkAb\"><td>5</td><th class=\"JmSkkf\" role=\"rowheader\" scope=\"row\">Chutes a gol</th><td>6</td></tr><tr class=\"MzWkAb\"><td>48%</td><th class=\"JmSkkf\" role=\"rowheader\" scope=\"row\">Posse de bola</th><td>52%</td></tr><tr class=\"MzWkAb\"><td>433</td><th class=\"JmSkkf\" role=\"rowheader\" scope=\"row\">Passes</th><td>471</td></tr><tr class=\"MzWkAb\"><td>83%</td><th class=\"JmSkkf\" role=\"rowheader\" scope=\"row\">Precisão de passe</th><td>88%</td></tr><tr class=\"MzWkAb\"><td>17</td><th class=\"JmSkkf\" role=\"rowheader\" scope=\"row\">Faltas</th><td>6</td></tr><tr class=\"MzWkAb\"><td>3</td><th class=\"JmSkkf\" role=\"rowheader\" scope=\"row\">Cartões amarelos</th><td>3</td></tr><tr class=\"MzWkAb\"><td>0</td><th class=\"JmSkkf\" role=\"rowheader\" scope=\"row\">Cartões vermelhos</th><td>0</td></tr><tr class=\"MzWkAb\"><td>3</td><th class=\"JmSkkf\" role=\"rowheader\" scope=\"row\">Impedimentos</th><td>2</td></tr><tr class=\"MzWkAb\"><td>4</td><th class=\"JmSkkf\" role=\"rowheader\" scope=\"row\">Escanteios</th><td>7</td></tr></tbody></table></div>"
   ]
  },
  {
   "cell_type": "code",
   "execution_count": 200,
   "metadata": {},
   "outputs": [],
   "source": [
    "# salvando em arquivo - padrãao: \"[data]_-_[placar]_-_[hora de criação do arquivo].extensão\"\n",
    "df.to_excel(f\"{data}_-_{mandante}_{gols_mandante}_x_{gols_visitante}_{visitante}_-_{hora_formatada}.xlsx\")"
   ]
  },
  {
   "cell_type": "code",
   "execution_count": 201,
   "metadata": {},
   "outputs": [],
   "source": [
    "cabecalho = [\n",
    "    data, escudo_mandante, escudo_visitante, mandante, visitante, gols_mandante, gols_visitante, vencedor, derrotado, chutes_mandante, chutes_visitante, chutes_a_gol_mandante, chutes_a_gol_visitante, posse_b_mandante, posse_b_visitante, passes_mandante, passes_visitante, precisao_p_mandante, precisao_p_visitante, faltas_mandante, faltas_visitante, cartoes_a_mandante, cartoes_a_visitante, cartoes_v_mandante, cartoes_v_visitante, impedimentos_mandante, impedimentos_visitante, escanteios_mandante, escanteios_visitante\n",
    "\n",
    "]\n",
    "\n",
    "#print(cabecalho)"
   ]
  }
 ],
 "metadata": {
  "kernelspec": {
   "display_name": "venv",
   "language": "python",
   "name": "python3"
  },
  "language_info": {
   "codemirror_mode": {
    "name": "ipython",
    "version": 3
   },
   "file_extension": ".py",
   "mimetype": "text/x-python",
   "name": "python",
   "nbconvert_exporter": "python",
   "pygments_lexer": "ipython3",
   "version": "3.12.3"
  }
 },
 "nbformat": 4,
 "nbformat_minor": 2
}
